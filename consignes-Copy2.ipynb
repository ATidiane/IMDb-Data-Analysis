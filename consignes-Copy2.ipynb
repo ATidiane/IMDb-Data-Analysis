{
 "cells": [
  {
   "cell_type": "markdown",
   "metadata": {},
   "source": [
    "# Analyse de données de films"
   ]
  },
  {
   "cell_type": "markdown",
   "metadata": {},
   "source": [
    "Nous proposons de travailler sur des données décrivant des films. Les possibilités sont larges et vous êtes évalués sur vos propositions et votre méthodologie plus que sur vos résultats.\n",
    "\n",
    "Les données de départ sont disponibles sur:\n",
    "https://grouplens.org/datasets/movielens/\n",
    "au format CSV. \n",
    "\n",
    "Nous nous intéresserons en particulier au jeu de données: **MovieLens 20M Dataset**. Dans ce jeu de données, vous disposez entre autre de:\n",
    "* Idendifiant du film dans IMdb et TMdb (ça sera important ensuite)\n",
    "* Catégorie(s) du film\n",
    "* Titre du film\n",
    "* Notes données par les internautes aux films\n",
    "\n",
    "Afin de rendre le projet plus intéressant, nous ajoutons des données sur les acteurs et producteurs associés aux films (récupéré sur TMdb). Ces données sont disponibles sur les liens suivants:\n",
    "\n",
    "http://webia.lip6.fr/~guigue/film_v2.pkl <br>\n",
    "http://webia.lip6.fr/~guigue/act_v2.pkl <br>\n",
    "http://webia.lip6.fr/~guigue/crew_v2.pkl\n",
    "\n",
    "Ces fichiers contiennent respectivement : une nouvelle description des films (dont l'identifiant TMdb et la note moyenne donnée par les internautes, la date de sortie,...), une description des acteurs de chaque film et une description des équipes (scénariste, producteur, metteur en scène) pour chaque film.\n",
    "\n",
    "Ces données sont des listes de taille 26908, chaque élément de la liste correspondant à un dictionnaire dont vous étudierez les clés pour récupérer les informations utiles.\n",
    "\n",
    "**ATTENTION** Les contraintes de récupération d'informations en ligne font que la base MovieLens compte 27278 films mais les fichiers ci-dessus n'en comptent que 26908. Le plus simple est probablement d'éliminer les films de MovieLens qui ne sont pas dans cette seconde base."
   ]
  },
  {
   "cell_type": "markdown",
   "metadata": {},
   "source": [
    "## Consignes générales pour l'analyse des données\n",
    "\n",
    "Vous devez proposer plusieurs analyses des données, qui devront à minima utiliser les\n",
    " techniques suivantes:\n",
    " \n",
    "1. Mettre en forme les données pour identifier les acteurs et les catégories, les indexer\n",
    "1. Traiter au moins un problème de régression supervisé (par exemple la prédiction de la note moyenne donnée à un film par les internautes).\n",
    "1. Traiter au moins un problème de classification supervisé (par exemple la prédiction de la catégorie d'un film)\n",
    "1. Utiliser les données catégorielles (catégories, acteurs,...) de manière discrète ET de manière coninue (*dummy coding*) dans des approches différentes\n",
    "1. Proposer au moins une approche de catégorisation non supervisée (pour regrouper les acteurs par exemple)\n",
    "1. Mener une campagne d'expérience permettant de comparer les performances sur un problème en fonction des valeurs d'un paramètre (et donc, in fine, trouver la meilleure valeur du paramètre)\n",
    "1. Proposer quelques illustrations"
   ]
  },
  {
   "cell_type": "code",
   "execution_count": 1,
   "metadata": {},
   "outputs": [
    {
     "name": "stderr",
     "output_type": "stream",
     "text": [
      "/users/Etu4/3502264/.local/lib/python3.5/site-packages/tqdm/autonotebook/__init__.py:14: TqdmExperimentalWarning: Using `tqdm.autonotebook.tqdm` in notebook mode. Use `tqdm.tqdm` instead to force console mode (e.g. in jupyter console)\n",
      "  \" (e.g. in jupyter console)\", TqdmExperimentalWarning)\n"
     ]
    }
   ],
   "source": [
    "from datetime import datetime\n",
    "import numpy as np\n",
    "import pandas as pd\n",
    "import matplotlib.pyplot as plt\n",
    "%matplotlib inline\n",
    "import pickle as pkl\n",
    "from functools import reduce\n",
    "import glob\n",
    "\n",
    "import tqdm as tqdm\n",
    "from tqdm.autonotebook import tqdm\n",
    "tqdm.pandas()\n",
    "\n",
    "import sys\n",
    "sys.path.append('iads/')\n",
    "\n",
    "from utils import *\n",
    "\n",
    "# Importation de la librairie iads\n",
    "import iads as iads\n",
    "# importation de LabeledSet\n",
    "from iads import LabeledSet as ls\n",
    "# importation de Classifiers\n",
    "from iads import Classifiers as cl\n",
    "# importation de utils\n",
    "from iads import utils as ut\n",
    "\n",
    "from IPython.core.interactiveshell import InteractiveShell\n",
    "InteractiveShell.ast_node_interactivity = \"all\""
   ]
  },
  {
   "cell_type": "markdown",
   "metadata": {},
   "source": [
    "## Chargement des données (base MovieLens + enrichissements)"
   ]
  },
  {
   "cell_type": "code",
   "execution_count": 2,
   "metadata": {},
   "outputs": [
    {
     "name": "stdout",
     "output_type": "stream",
     "text": [
      "Chargement des données MoviesLens\n",
      "\t ml-20m/movies.csv...\n",
      "\t ml-20m/genome-scores.csv...\n",
      "\t ml-20m/genome-tags.csv...\n",
      "\t ml-20m/links.csv...\n",
      "\t ml-20m/ratings.csv...\n",
      "\t ml-20m/tags.csv...\n",
      "Done\n"
     ]
    },
    {
     "data": {
      "text/html": [
       "<div>\n",
       "<style scoped>\n",
       "    .dataframe tbody tr th:only-of-type {\n",
       "        vertical-align: middle;\n",
       "    }\n",
       "\n",
       "    .dataframe tbody tr th {\n",
       "        vertical-align: top;\n",
       "    }\n",
       "\n",
       "    .dataframe thead th {\n",
       "        text-align: right;\n",
       "    }\n",
       "</style>\n",
       "<table border=\"1\" class=\"dataframe\">\n",
       "  <thead>\n",
       "    <tr style=\"text-align: right;\">\n",
       "      <th></th>\n",
       "      <th>movieId</th>\n",
       "      <th>title</th>\n",
       "      <th>genres</th>\n",
       "    </tr>\n",
       "  </thead>\n",
       "  <tbody>\n",
       "    <tr>\n",
       "      <th>0</th>\n",
       "      <td>1</td>\n",
       "      <td>Toy Story (1995)</td>\n",
       "      <td>Adventure|Animation|Children|Comedy|Fantasy</td>\n",
       "    </tr>\n",
       "    <tr>\n",
       "      <th>1</th>\n",
       "      <td>2</td>\n",
       "      <td>Jumanji (1995)</td>\n",
       "      <td>Adventure|Children|Fantasy</td>\n",
       "    </tr>\n",
       "    <tr>\n",
       "      <th>2</th>\n",
       "      <td>3</td>\n",
       "      <td>Grumpier Old Men (1995)</td>\n",
       "      <td>Comedy|Romance</td>\n",
       "    </tr>\n",
       "    <tr>\n",
       "      <th>3</th>\n",
       "      <td>4</td>\n",
       "      <td>Waiting to Exhale (1995)</td>\n",
       "      <td>Comedy|Drama|Romance</td>\n",
       "    </tr>\n",
       "    <tr>\n",
       "      <th>4</th>\n",
       "      <td>5</td>\n",
       "      <td>Father of the Bride Part II (1995)</td>\n",
       "      <td>Comedy</td>\n",
       "    </tr>\n",
       "  </tbody>\n",
       "</table>\n",
       "</div>"
      ],
      "text/plain": [
       "   movieId                               title  \\\n",
       "0        1                    Toy Story (1995)   \n",
       "1        2                      Jumanji (1995)   \n",
       "2        3             Grumpier Old Men (1995)   \n",
       "3        4            Waiting to Exhale (1995)   \n",
       "4        5  Father of the Bride Part II (1995)   \n",
       "\n",
       "                                        genres  \n",
       "0  Adventure|Animation|Children|Comedy|Fantasy  \n",
       "1                   Adventure|Children|Fantasy  \n",
       "2                               Comedy|Romance  \n",
       "3                         Comedy|Drama|Romance  \n",
       "4                                       Comedy  "
      ]
     },
     "execution_count": 2,
     "metadata": {},
     "output_type": "execute_result"
    },
    {
     "data": {
      "text/html": [
       "<div>\n",
       "<style scoped>\n",
       "    .dataframe tbody tr th:only-of-type {\n",
       "        vertical-align: middle;\n",
       "    }\n",
       "\n",
       "    .dataframe tbody tr th {\n",
       "        vertical-align: top;\n",
       "    }\n",
       "\n",
       "    .dataframe thead th {\n",
       "        text-align: right;\n",
       "    }\n",
       "</style>\n",
       "<table border=\"1\" class=\"dataframe\">\n",
       "  <thead>\n",
       "    <tr style=\"text-align: right;\">\n",
       "      <th></th>\n",
       "      <th>movieId</th>\n",
       "      <th>tagId</th>\n",
       "      <th>relevance</th>\n",
       "    </tr>\n",
       "  </thead>\n",
       "  <tbody>\n",
       "    <tr>\n",
       "      <th>0</th>\n",
       "      <td>1</td>\n",
       "      <td>1</td>\n",
       "      <td>0.02500</td>\n",
       "    </tr>\n",
       "    <tr>\n",
       "      <th>1</th>\n",
       "      <td>1</td>\n",
       "      <td>2</td>\n",
       "      <td>0.02500</td>\n",
       "    </tr>\n",
       "    <tr>\n",
       "      <th>2</th>\n",
       "      <td>1</td>\n",
       "      <td>3</td>\n",
       "      <td>0.05775</td>\n",
       "    </tr>\n",
       "    <tr>\n",
       "      <th>3</th>\n",
       "      <td>1</td>\n",
       "      <td>4</td>\n",
       "      <td>0.09675</td>\n",
       "    </tr>\n",
       "    <tr>\n",
       "      <th>4</th>\n",
       "      <td>1</td>\n",
       "      <td>5</td>\n",
       "      <td>0.14675</td>\n",
       "    </tr>\n",
       "  </tbody>\n",
       "</table>\n",
       "</div>"
      ],
      "text/plain": [
       "   movieId  tagId  relevance\n",
       "0        1      1    0.02500\n",
       "1        1      2    0.02500\n",
       "2        1      3    0.05775\n",
       "3        1      4    0.09675\n",
       "4        1      5    0.14675"
      ]
     },
     "execution_count": 2,
     "metadata": {},
     "output_type": "execute_result"
    },
    {
     "data": {
      "text/html": [
       "<div>\n",
       "<style scoped>\n",
       "    .dataframe tbody tr th:only-of-type {\n",
       "        vertical-align: middle;\n",
       "    }\n",
       "\n",
       "    .dataframe tbody tr th {\n",
       "        vertical-align: top;\n",
       "    }\n",
       "\n",
       "    .dataframe thead th {\n",
       "        text-align: right;\n",
       "    }\n",
       "</style>\n",
       "<table border=\"1\" class=\"dataframe\">\n",
       "  <thead>\n",
       "    <tr style=\"text-align: right;\">\n",
       "      <th></th>\n",
       "      <th>tagId</th>\n",
       "      <th>tag</th>\n",
       "    </tr>\n",
       "  </thead>\n",
       "  <tbody>\n",
       "    <tr>\n",
       "      <th>0</th>\n",
       "      <td>1</td>\n",
       "      <td>007</td>\n",
       "    </tr>\n",
       "    <tr>\n",
       "      <th>1</th>\n",
       "      <td>2</td>\n",
       "      <td>007 (series)</td>\n",
       "    </tr>\n",
       "    <tr>\n",
       "      <th>2</th>\n",
       "      <td>3</td>\n",
       "      <td>18th century</td>\n",
       "    </tr>\n",
       "    <tr>\n",
       "      <th>3</th>\n",
       "      <td>4</td>\n",
       "      <td>1920s</td>\n",
       "    </tr>\n",
       "    <tr>\n",
       "      <th>4</th>\n",
       "      <td>5</td>\n",
       "      <td>1930s</td>\n",
       "    </tr>\n",
       "  </tbody>\n",
       "</table>\n",
       "</div>"
      ],
      "text/plain": [
       "   tagId           tag\n",
       "0      1           007\n",
       "1      2  007 (series)\n",
       "2      3  18th century\n",
       "3      4         1920s\n",
       "4      5         1930s"
      ]
     },
     "execution_count": 2,
     "metadata": {},
     "output_type": "execute_result"
    },
    {
     "data": {
      "text/html": [
       "<div>\n",
       "<style scoped>\n",
       "    .dataframe tbody tr th:only-of-type {\n",
       "        vertical-align: middle;\n",
       "    }\n",
       "\n",
       "    .dataframe tbody tr th {\n",
       "        vertical-align: top;\n",
       "    }\n",
       "\n",
       "    .dataframe thead th {\n",
       "        text-align: right;\n",
       "    }\n",
       "</style>\n",
       "<table border=\"1\" class=\"dataframe\">\n",
       "  <thead>\n",
       "    <tr style=\"text-align: right;\">\n",
       "      <th></th>\n",
       "      <th>movieId</th>\n",
       "      <th>imdbId</th>\n",
       "      <th>tmdbId</th>\n",
       "    </tr>\n",
       "  </thead>\n",
       "  <tbody>\n",
       "    <tr>\n",
       "      <th>0</th>\n",
       "      <td>1</td>\n",
       "      <td>114709</td>\n",
       "      <td>862.0</td>\n",
       "    </tr>\n",
       "    <tr>\n",
       "      <th>1</th>\n",
       "      <td>2</td>\n",
       "      <td>113497</td>\n",
       "      <td>8844.0</td>\n",
       "    </tr>\n",
       "    <tr>\n",
       "      <th>2</th>\n",
       "      <td>3</td>\n",
       "      <td>113228</td>\n",
       "      <td>15602.0</td>\n",
       "    </tr>\n",
       "    <tr>\n",
       "      <th>3</th>\n",
       "      <td>4</td>\n",
       "      <td>114885</td>\n",
       "      <td>31357.0</td>\n",
       "    </tr>\n",
       "    <tr>\n",
       "      <th>4</th>\n",
       "      <td>5</td>\n",
       "      <td>113041</td>\n",
       "      <td>11862.0</td>\n",
       "    </tr>\n",
       "  </tbody>\n",
       "</table>\n",
       "</div>"
      ],
      "text/plain": [
       "   movieId  imdbId   tmdbId\n",
       "0        1  114709    862.0\n",
       "1        2  113497   8844.0\n",
       "2        3  113228  15602.0\n",
       "3        4  114885  31357.0\n",
       "4        5  113041  11862.0"
      ]
     },
     "execution_count": 2,
     "metadata": {},
     "output_type": "execute_result"
    },
    {
     "data": {
      "text/html": [
       "<div>\n",
       "<style scoped>\n",
       "    .dataframe tbody tr th:only-of-type {\n",
       "        vertical-align: middle;\n",
       "    }\n",
       "\n",
       "    .dataframe tbody tr th {\n",
       "        vertical-align: top;\n",
       "    }\n",
       "\n",
       "    .dataframe thead th {\n",
       "        text-align: right;\n",
       "    }\n",
       "</style>\n",
       "<table border=\"1\" class=\"dataframe\">\n",
       "  <thead>\n",
       "    <tr style=\"text-align: right;\">\n",
       "      <th></th>\n",
       "      <th>userId</th>\n",
       "      <th>movieId</th>\n",
       "      <th>rating</th>\n",
       "      <th>timestamp</th>\n",
       "    </tr>\n",
       "  </thead>\n",
       "  <tbody>\n",
       "    <tr>\n",
       "      <th>0</th>\n",
       "      <td>1</td>\n",
       "      <td>2</td>\n",
       "      <td>3.5</td>\n",
       "      <td>1112486027</td>\n",
       "    </tr>\n",
       "    <tr>\n",
       "      <th>1</th>\n",
       "      <td>1</td>\n",
       "      <td>29</td>\n",
       "      <td>3.5</td>\n",
       "      <td>1112484676</td>\n",
       "    </tr>\n",
       "    <tr>\n",
       "      <th>2</th>\n",
       "      <td>1</td>\n",
       "      <td>32</td>\n",
       "      <td>3.5</td>\n",
       "      <td>1112484819</td>\n",
       "    </tr>\n",
       "    <tr>\n",
       "      <th>3</th>\n",
       "      <td>1</td>\n",
       "      <td>47</td>\n",
       "      <td>3.5</td>\n",
       "      <td>1112484727</td>\n",
       "    </tr>\n",
       "    <tr>\n",
       "      <th>4</th>\n",
       "      <td>1</td>\n",
       "      <td>50</td>\n",
       "      <td>3.5</td>\n",
       "      <td>1112484580</td>\n",
       "    </tr>\n",
       "  </tbody>\n",
       "</table>\n",
       "</div>"
      ],
      "text/plain": [
       "   userId  movieId  rating   timestamp\n",
       "0       1        2     3.5  1112486027\n",
       "1       1       29     3.5  1112484676\n",
       "2       1       32     3.5  1112484819\n",
       "3       1       47     3.5  1112484727\n",
       "4       1       50     3.5  1112484580"
      ]
     },
     "execution_count": 2,
     "metadata": {},
     "output_type": "execute_result"
    },
    {
     "data": {
      "text/html": [
       "<div>\n",
       "<style scoped>\n",
       "    .dataframe tbody tr th:only-of-type {\n",
       "        vertical-align: middle;\n",
       "    }\n",
       "\n",
       "    .dataframe tbody tr th {\n",
       "        vertical-align: top;\n",
       "    }\n",
       "\n",
       "    .dataframe thead th {\n",
       "        text-align: right;\n",
       "    }\n",
       "</style>\n",
       "<table border=\"1\" class=\"dataframe\">\n",
       "  <thead>\n",
       "    <tr style=\"text-align: right;\">\n",
       "      <th></th>\n",
       "      <th>userId</th>\n",
       "      <th>movieId</th>\n",
       "      <th>tag</th>\n",
       "      <th>timestamp</th>\n",
       "    </tr>\n",
       "  </thead>\n",
       "  <tbody>\n",
       "    <tr>\n",
       "      <th>0</th>\n",
       "      <td>18</td>\n",
       "      <td>4141</td>\n",
       "      <td>Mark Waters</td>\n",
       "      <td>1240597180</td>\n",
       "    </tr>\n",
       "    <tr>\n",
       "      <th>1</th>\n",
       "      <td>65</td>\n",
       "      <td>208</td>\n",
       "      <td>dark hero</td>\n",
       "      <td>1368150078</td>\n",
       "    </tr>\n",
       "    <tr>\n",
       "      <th>2</th>\n",
       "      <td>65</td>\n",
       "      <td>353</td>\n",
       "      <td>dark hero</td>\n",
       "      <td>1368150079</td>\n",
       "    </tr>\n",
       "    <tr>\n",
       "      <th>3</th>\n",
       "      <td>65</td>\n",
       "      <td>521</td>\n",
       "      <td>noir thriller</td>\n",
       "      <td>1368149983</td>\n",
       "    </tr>\n",
       "    <tr>\n",
       "      <th>4</th>\n",
       "      <td>65</td>\n",
       "      <td>592</td>\n",
       "      <td>dark hero</td>\n",
       "      <td>1368150078</td>\n",
       "    </tr>\n",
       "  </tbody>\n",
       "</table>\n",
       "</div>"
      ],
      "text/plain": [
       "   userId  movieId            tag   timestamp\n",
       "0      18     4141    Mark Waters  1240597180\n",
       "1      65      208      dark hero  1368150078\n",
       "2      65      353      dark hero  1368150079\n",
       "3      65      521  noir thriller  1368149983\n",
       "4      65      592      dark hero  1368150078"
      ]
     },
     "execution_count": 2,
     "metadata": {},
     "output_type": "execute_result"
    }
   ],
   "source": [
    "# Chargement des données MovieLens\n",
    "\n",
    "print(\"Chargement des données MoviesLens\")\n",
    "for fname in glob.glob(\"ml-20m/*.csv\"):\n",
    "    print(\"\\t {}...\".format(fname))\n",
    "    name = fname.split('/')[1].split('.')[0].replace('-', '_')\n",
    "    vars()[name] = pd.read_csv(fname, encoding='utf8')\n",
    "print(\"Done\")\n",
    "\n",
    "movies.head()\n",
    "genome_scores.head()\n",
    "genome_tags.head()\n",
    "links.head()\n",
    "ratings.head()\n",
    "tags.head()"
   ]
  },
  {
   "cell_type": "code",
   "execution_count": 3,
   "metadata": {},
   "outputs": [
    {
     "name": "stdout",
     "output_type": "stream",
     "text": [
      "Chargement des données complémentaires\n",
      "\t ml-20m/act_v2.pkl\n",
      "\t ml-20m/film_v2.pkl\n",
      "\t ml-20m/crew_v2.pkl\n",
      "Done\n"
     ]
    }
   ],
   "source": [
    "# Chargement des données complémentaires\n",
    "\n",
    "print(\"Chargement des données complémentaires\")\n",
    "for fname in glob.glob(\"ml-20m/*.pkl\"):\n",
    "    print(\"\\t {}\".format(fname))\n",
    "    name = fname.split('/')[1].split('_')[0]\n",
    "    vars()[name] = pkl.load(open(fname, \"rb\"))\n",
    "print(\"Done\")\n",
    "\n"
   ]
  },
  {
   "cell_type": "code",
   "execution_count": 4,
   "metadata": {},
   "outputs": [
    {
     "data": {
      "text/plain": [
       "38644"
      ]
     },
     "execution_count": 4,
     "metadata": {},
     "output_type": "execute_result"
    },
    {
     "data": {
      "text/plain": [
       "(1128, 2)"
      ]
     },
     "execution_count": 4,
     "metadata": {},
     "output_type": "execute_result"
    }
   ],
   "source": [
    "len(tags.tag.unique())\n",
    "genome_tags.shape"
   ]
  },
  {
   "cell_type": "code",
   "execution_count": 5,
   "metadata": {
    "scrolled": true
   },
   "outputs": [
    {
     "data": {
      "text/plain": [
       "{'cast_id': 14,\n",
       " 'character': 'Woody (voice)',\n",
       " 'credit_id': '52fe4284c3a36847f8024f95',\n",
       " 'gender': 2,\n",
       " 'id': 31,\n",
       " 'name': 'Tom Hanks',\n",
       " 'order': 0,\n",
       " 'profile_path': '/xxPMucou2wRDxLrud8i2D4dsywh.jpg'}"
      ]
     },
     "execution_count": 5,
     "metadata": {},
     "output_type": "execute_result"
    }
   ],
   "source": [
    "act[0][0]"
   ]
  },
  {
   "cell_type": "code",
   "execution_count": 6,
   "metadata": {},
   "outputs": [
    {
     "data": {
      "text/plain": [
       "{'credit_id': '52fe4284c3a36847f8024f49',\n",
       " 'department': 'Directing',\n",
       " 'gender': 2,\n",
       " 'id': 7879,\n",
       " 'job': 'Director',\n",
       " 'name': 'John Lasseter',\n",
       " 'profile_path': '/7EdqiNbr4FRjIhKHyPPdFfEEEFG.jpg'}"
      ]
     },
     "execution_count": 6,
     "metadata": {},
     "output_type": "execute_result"
    }
   ],
   "source": [
    "crew[0][0]"
   ]
  },
  {
   "cell_type": "code",
   "execution_count": 7,
   "metadata": {},
   "outputs": [
    {
     "data": {
      "text/plain": [
       "[{'adult': False,\n",
       "  'backdrop_path': '/dji4Fm0gCDVb9DQQMRvAI8YNnTz.jpg',\n",
       "  'genre_ids': [16, 35, 10751],\n",
       "  'id': 862,\n",
       "  'original_language': 'en',\n",
       "  'original_title': 'Toy Story',\n",
       "  'overview': \"Led by Woody, Andy's toys live happily in his room until Andy's birthday brings Buzz Lightyear onto the scene. Afraid of losing his place in Andy's heart, Woody plots against Buzz. But when circumstances separate Buzz and Woody from their owner, the duo eventually learns to put aside their differences.\",\n",
       "  'popularity': 22.773,\n",
       "  'poster_path': '/rhIRbceoE9lR4veEXuwCC2wARtG.jpg',\n",
       "  'release_date': '1995-10-30',\n",
       "  'title': 'Toy Story',\n",
       "  'video': False,\n",
       "  'vote_average': 7.9,\n",
       "  'vote_count': 9550}]"
      ]
     },
     "execution_count": 7,
     "metadata": {},
     "output_type": "execute_result"
    }
   ],
   "source": [
    "film[:1]"
   ]
  },
  {
   "cell_type": "markdown",
   "metadata": {},
   "source": [
    "## Mise en forme des données"
   ]
  },
  {
   "cell_type": "code",
   "execution_count": 8,
   "metadata": {},
   "outputs": [],
   "source": [
    "unique_cat = set(reduce(lambda a, b: a + b, movies.apply(\n",
    "    lambda x: x.genres.split('|'), axis=1)))"
   ]
  },
  {
   "cell_type": "code",
   "execution_count": 9,
   "metadata": {},
   "outputs": [],
   "source": [
    "movies[list(unique_cat)] = pd.DataFrame(np.zeros((movies.shape[0], \n",
    "                                                  len(unique_cat))))\n",
    "for i, row in movies.iterrows():\n",
    "    movies.loc[i, row['genres'].split('|')] = 1"
   ]
  },
  {
   "cell_type": "code",
   "execution_count": 10,
   "metadata": {},
   "outputs": [
    {
     "data": {
      "text/plain": [
       "'\\n\\n'"
      ]
     },
     "execution_count": 10,
     "metadata": {},
     "output_type": "execute_result"
    }
   ],
   "source": [
    "# %load preprocessing.py\n",
    "#!/usr/bin/env python3\n",
    "\n",
    "\"\"\"\n",
    "\n",
    "\"\"\"\n",
    "\n",
    "def process_ratings(ratings, fname_to_create):\n",
    "    \"\"\"FIXME! briefly describe function\n",
    "\n",
    "    :param ratings:\n",
    "    :param fname_to_create:\n",
    "    :returns:\n",
    "    :rtype:\n",
    "\n",
    "    \"\"\"\n",
    "\n",
    "    # Calculate ratings mean of users\n",
    "    df_ratings = ratings[['movieId', 'rating']].groupby(\n",
    "        ['movieId'], as_index=False).mean()\n",
    "\n",
    "    # Count number of ratings by movie\n",
    "    df_ratings['nb_ratings'] = ratings.groupby(\n",
    "        ['movieId'], as_index=False).count().loc[:, 'rating']\n",
    "\n",
    "    df_ratings.to_csv(fname_to_create, index=False)\n",
    "\n",
    "\n",
    "def process_tags(tags, fname_to_create):\n",
    "    \"\"\"FIXME! briefly describe function\n",
    "\n",
    "    :param tags:\n",
    "    :param fname_to_create:\n",
    "    :returns:\n",
    "    :rtype:\n",
    "\n",
    "    \"\"\"\n",
    "\n",
    "    df_tags = tags[['movieId', 'userId']].groupby(\n",
    "        ['movieId'], as_index=False).count().rename(\n",
    "        columns={'userId': 'nb_tags'})\n",
    "\n",
    "    df_tags['all_tags'] = tags.groupby(['movieId'], as_index=False)[\n",
    "        'tag'].progress_apply(list)\n",
    "\n",
    "    df_tags['existing_tags'] = df_tags[['all_tags']].progress_apply(\n",
    "        lambda line: list(filter(\n",
    "            lambda tag: not genome_tags[genome_tags['tag'] == tag].empty,\n",
    "            line['all_tags'])), axis=1)\n",
    "\n",
    "    df_tags['existing_tagsId'] = df_tags[['existing_tags']].progress_apply(\n",
    "        lambda line: list(map(\n",
    "            lambda tag: genome_tags[genome_tags['tag']\n",
    "                                    == tag]['tagId'].iloc[0],\n",
    "            line['existing_tags'])), axis=1)\n",
    "\n",
    "    df_tags['existing_tagsRelevance'] = df_tags[['movieId', 'existing_tagsId']].progress_apply(\n",
    "        lambda line: np.array(\n",
    "            [*map(lambda tagId:\n",
    "                  genome_scores[(genome_scores['movieId'] == line.movieId) &\n",
    "                                (genome_scores['tagId'] == tagId)]['relevance'].values,\n",
    "                  line['existing_tagsId'])]).ravel(), axis=1)\n",
    "\n",
    "    df_tags['mean_relevance'] = df_tags[['existing_tagsRelevance']].progress_apply(\n",
    "        lambda line: line['existing_tagsRelevance'].mean(), axis=1).fillna(0)\n",
    "\n",
    "    df_tags.to_csv(fname_to_create, index=False)\n",
    "\n",
    "\n",
    "def main():\n",
    "\n",
    "    process_ratings(ratings, \"datasets/ratings.csv\")\n",
    "    process_tags(tags, \"datasets/tags.csv\")\n",
    "\n",
    "\n",
    "if __name__ == \"__main__\":\n",
    "    process_ratings(ratings, \"datasets/ratings.csv\")\n"
   ]
  },
  {
   "cell_type": "code",
   "execution_count": 11,
   "metadata": {},
   "outputs": [],
   "source": [
    "df_ratings = pd.read_csv(\"datasets/ratings.csv\")\n",
    "df_tags = pd.read_csv('datasets/tags.csv')"
   ]
  },
  {
   "cell_type": "code",
   "execution_count": 12,
   "metadata": {},
   "outputs": [],
   "source": [
    "try:\n",
    "    df_movies = reduce(lambda df1, df2: pd.merge(df1, df2), \n",
    "                       [movies.drop(columns='title', inplace=True), \n",
    "                        links,\n",
    "                        pd.DataFrame(film).rename(columns={'id':'tmdbId'})])\n",
    "except:\n",
    "    df_movies = reduce(lambda df1, df2: pd.merge(df1, df2), \n",
    "                       [movies, \n",
    "                        links,\n",
    "                        pd.DataFrame(film).rename(columns={'id':'tmdbId'})])\n"
   ]
  },
  {
   "cell_type": "code",
   "execution_count": 13,
   "metadata": {},
   "outputs": [],
   "source": [
    "# %load utils.py\n",
    "#!/usr/bin/env python3\n",
    "\n",
    "from datetime import datetime\n",
    "\n",
    "import iads as iads\n",
    "from iads import LabeledSet as ls\n",
    "\n",
    "\n",
    "def delete_columns(data, columns_to_drop):\n",
    "    \"\"\" Delete specified columns in columns_to_drop from the dataframe\n",
    "    :param data: dataframe from which to delete columns\n",
    "    :param columns_to_drop: list of columns to delete\n",
    "    :returns: a dataframe\n",
    "    :rtype: pandas.DataFrame\n",
    "    \"\"\"\n",
    "\n",
    "    for column in columns_to_drop:\n",
    "        if column in data.columns:\n",
    "            data.drop(column, axis=1, inplace=True)\n",
    "\n",
    "    return data\n",
    "\n",
    "\n",
    "def transform_date(x):\n",
    "    \"\"\"FIXME! briefly describe function\n",
    "\n",
    "    :param x:\n",
    "    :returns:\n",
    "    :rtype:\n",
    "\n",
    "    \"\"\"\n",
    "\n",
    "    try:\n",
    "        return datetime.strptime(x, '%Y-%m-%d').year\n",
    "    except BaseException:\n",
    "        try:\n",
    "            return int(x)\n",
    "        except BaseException:\n",
    "            return 0\n",
    "\n",
    "\n",
    "def createLabeledSet(X, y):\n",
    "    \"\"\"FIXME! briefly describe function\n",
    "\n",
    "    :param X:\n",
    "    :param y:\n",
    "    :returns:\n",
    "    :rtype:\n",
    "\n",
    "    \"\"\"\n",
    "\n",
    "    l = ls.LabeledSet(X.shape[0])\n",
    "    for i, j in zip(X, y):\n",
    "        l.addExample(i, j)\n",
    "\n",
    "    return l\n",
    "\n",
    "def normalize(X):\n",
    "    \"\"\" Returns a normalized (between 0 and 1) array of X. Normalizes each\n",
    "    column separatly.\n",
    "    :param X: independent variables, features.\n",
    "    :returns: a normalized X\n",
    "    :rtype: np.array\n",
    "    \"\"\"\n",
    "\n",
    "    norm_X = np.zeros_like(X)\n",
    "    for i in range(X.shape[1]):\n",
    "        tmp = X[:, i].copy()\n",
    "        maxi, mini = np.nanmax(tmp), np.nanmin(tmp)\n",
    "        norm_X[:, i] = (tmp - mini) / (maxi - mini)\n",
    "\n",
    "    return norm_X\n",
    "\n",
    "def split(labeledSet, test_size):\n",
    "    \"\"\"\n",
    "    \"\"\"\n",
    "    \n",
    "    indexes = np.arange(labeledSet.size())\n",
    "    np.random.shuffle(indexes)\n",
    "    \n",
    "    shuffeledSet = ls.LabeledSet(2)\n",
    "    for i in indexes:\n",
    "        shuffeledSet.addExample(labeledSet.getX(i), labeledSet.getY(i))\n",
    "    \n",
    "    trainSet, testSet = ls.LabeledSet(2), ls.LabeledSet(2)\n",
    "    test_range = int(labeledSet.size() * test_size)\n",
    "    \n",
    "    for i in range(labeledSet.size() - test_range):\n",
    "        trainSet.addExample(shuffeledSet.getX(i), shuffeledSet.getY(i))\n",
    "    \n",
    "    for i in range(labeledSet.size() - test_range, labeledSet.size()):\n",
    "        testSet.addExample(shuffeledSet.getX(i), shuffeledSet.getY(i))\n",
    "    \n",
    "    return trainSet, testSet"
   ]
  },
  {
   "cell_type": "code",
   "execution_count": 14,
   "metadata": {},
   "outputs": [
    {
     "name": "stderr",
     "output_type": "stream",
     "text": [
      "/users/Etu4/3502264/.local/lib/python3.5/site-packages/ipykernel_launcher.py:16: SettingWithCopyWarning: \n",
      "A value is trying to be set on a copy of a slice from a DataFrame\n",
      "\n",
      "See the caveats in the documentation: http://pandas.pydata.org/pandas-docs/stable/indexing.html#indexing-view-versus-copy\n",
      "  app.launch_new_instance()\n"
     ]
    }
   ],
   "source": [
    "# Defining the target variable and the independant variables\n",
    "df_y = df_movies['vote_average']\n",
    "df_X = df_movies.copy()\n",
    "\n",
    "# Deleting useless columns\n",
    "cols_to_drop = ['movieId', 'genres', 'imdbId', 'tmdbId', 'backdrop_path', 'genre_ids', \n",
    "                'original_title', 'overview', 'poster_path', 'vote_average', \n",
    "                'vote_count', 'video', 'title']\n",
    "\n",
    "df_X = delete_columns(df_X, cols_to_drop)\n",
    "\n",
    "# Label encoding \n",
    "df_X['adult'] = df_X['adult'].apply(int)\n",
    "df_X['original_language'] = df_X['original_language'].astype('category').cat.codes\n",
    "df_X['release_date'] = df_X['release_date'].apply(lambda x: transform_date(x))\n",
    "df_X.release_date[df_X.release_date == 0] = df_X.release_date.median()\n",
    "\n",
    "# Drop NaN values\n",
    "df_X = df_X.dropna()\n",
    "# Transform to numpy arrays\n",
    "X, y = df_X.values, df_y.values\n",
    "# Normalize data\n",
    "X = normalize(X)\n",
    "# Create LabeledSet\n",
    "regressor_set = createLabeledSet(X, y)"
   ]
  },
  {
   "cell_type": "code",
   "execution_count": 49,
   "metadata": {},
   "outputs": [
    {
     "data": {
      "text/html": [
       "<div>\n",
       "<style scoped>\n",
       "    .dataframe tbody tr th:only-of-type {\n",
       "        vertical-align: middle;\n",
       "    }\n",
       "\n",
       "    .dataframe tbody tr th {\n",
       "        vertical-align: top;\n",
       "    }\n",
       "\n",
       "    .dataframe thead th {\n",
       "        text-align: right;\n",
       "    }\n",
       "</style>\n",
       "<table border=\"1\" class=\"dataframe\">\n",
       "  <thead>\n",
       "    <tr style=\"text-align: right;\">\n",
       "      <th></th>\n",
       "      <th>Animation</th>\n",
       "      <th>War</th>\n",
       "      <th>Western</th>\n",
       "      <th>Children</th>\n",
       "      <th>Documentary</th>\n",
       "      <th>Romance</th>\n",
       "      <th>Film-Noir</th>\n",
       "      <th>Comedy</th>\n",
       "      <th>Action</th>\n",
       "      <th>Sci-Fi</th>\n",
       "      <th>...</th>\n",
       "      <th>Horror</th>\n",
       "      <th>(no genres listed)</th>\n",
       "      <th>Fantasy</th>\n",
       "      <th>Thriller</th>\n",
       "      <th>Drama</th>\n",
       "      <th>IMAX</th>\n",
       "      <th>adult</th>\n",
       "      <th>original_language</th>\n",
       "      <th>popularity</th>\n",
       "      <th>release_date</th>\n",
       "    </tr>\n",
       "  </thead>\n",
       "  <tbody>\n",
       "    <tr>\n",
       "      <th>0</th>\n",
       "      <td>1.0</td>\n",
       "      <td>0.0</td>\n",
       "      <td>0.0</td>\n",
       "      <td>1.0</td>\n",
       "      <td>0.0</td>\n",
       "      <td>0.0</td>\n",
       "      <td>0.0</td>\n",
       "      <td>1.0</td>\n",
       "      <td>0.0</td>\n",
       "      <td>0.0</td>\n",
       "      <td>...</td>\n",
       "      <td>0.0</td>\n",
       "      <td>0.0</td>\n",
       "      <td>1.0</td>\n",
       "      <td>0.0</td>\n",
       "      <td>0.0</td>\n",
       "      <td>0.0</td>\n",
       "      <td>0</td>\n",
       "      <td>19</td>\n",
       "      <td>22.773</td>\n",
       "      <td>1995</td>\n",
       "    </tr>\n",
       "    <tr>\n",
       "      <th>1</th>\n",
       "      <td>0.0</td>\n",
       "      <td>0.0</td>\n",
       "      <td>0.0</td>\n",
       "      <td>1.0</td>\n",
       "      <td>0.0</td>\n",
       "      <td>0.0</td>\n",
       "      <td>0.0</td>\n",
       "      <td>0.0</td>\n",
       "      <td>0.0</td>\n",
       "      <td>0.0</td>\n",
       "      <td>...</td>\n",
       "      <td>0.0</td>\n",
       "      <td>0.0</td>\n",
       "      <td>1.0</td>\n",
       "      <td>0.0</td>\n",
       "      <td>0.0</td>\n",
       "      <td>0.0</td>\n",
       "      <td>0</td>\n",
       "      <td>19</td>\n",
       "      <td>2.947</td>\n",
       "      <td>1995</td>\n",
       "    </tr>\n",
       "    <tr>\n",
       "      <th>2</th>\n",
       "      <td>0.0</td>\n",
       "      <td>0.0</td>\n",
       "      <td>0.0</td>\n",
       "      <td>0.0</td>\n",
       "      <td>0.0</td>\n",
       "      <td>1.0</td>\n",
       "      <td>0.0</td>\n",
       "      <td>1.0</td>\n",
       "      <td>0.0</td>\n",
       "      <td>0.0</td>\n",
       "      <td>...</td>\n",
       "      <td>0.0</td>\n",
       "      <td>0.0</td>\n",
       "      <td>0.0</td>\n",
       "      <td>0.0</td>\n",
       "      <td>0.0</td>\n",
       "      <td>0.0</td>\n",
       "      <td>0</td>\n",
       "      <td>19</td>\n",
       "      <td>6.076</td>\n",
       "      <td>1995</td>\n",
       "    </tr>\n",
       "    <tr>\n",
       "      <th>3</th>\n",
       "      <td>0.0</td>\n",
       "      <td>0.0</td>\n",
       "      <td>0.0</td>\n",
       "      <td>0.0</td>\n",
       "      <td>0.0</td>\n",
       "      <td>1.0</td>\n",
       "      <td>0.0</td>\n",
       "      <td>1.0</td>\n",
       "      <td>0.0</td>\n",
       "      <td>0.0</td>\n",
       "      <td>...</td>\n",
       "      <td>0.0</td>\n",
       "      <td>0.0</td>\n",
       "      <td>0.0</td>\n",
       "      <td>0.0</td>\n",
       "      <td>1.0</td>\n",
       "      <td>0.0</td>\n",
       "      <td>0</td>\n",
       "      <td>19</td>\n",
       "      <td>2.917</td>\n",
       "      <td>1995</td>\n",
       "    </tr>\n",
       "    <tr>\n",
       "      <th>4</th>\n",
       "      <td>0.0</td>\n",
       "      <td>0.0</td>\n",
       "      <td>0.0</td>\n",
       "      <td>0.0</td>\n",
       "      <td>0.0</td>\n",
       "      <td>0.0</td>\n",
       "      <td>0.0</td>\n",
       "      <td>1.0</td>\n",
       "      <td>0.0</td>\n",
       "      <td>0.0</td>\n",
       "      <td>...</td>\n",
       "      <td>0.0</td>\n",
       "      <td>0.0</td>\n",
       "      <td>0.0</td>\n",
       "      <td>0.0</td>\n",
       "      <td>0.0</td>\n",
       "      <td>0.0</td>\n",
       "      <td>0</td>\n",
       "      <td>19</td>\n",
       "      <td>6.817</td>\n",
       "      <td>1995</td>\n",
       "    </tr>\n",
       "  </tbody>\n",
       "</table>\n",
       "<p>5 rows × 24 columns</p>\n",
       "</div>"
      ],
      "text/plain": [
       "   Animation  War  Western  Children  Documentary  Romance  Film-Noir  Comedy  \\\n",
       "0        1.0  0.0      0.0       1.0          0.0      0.0        0.0     1.0   \n",
       "1        0.0  0.0      0.0       1.0          0.0      0.0        0.0     0.0   \n",
       "2        0.0  0.0      0.0       0.0          0.0      1.0        0.0     1.0   \n",
       "3        0.0  0.0      0.0       0.0          0.0      1.0        0.0     1.0   \n",
       "4        0.0  0.0      0.0       0.0          0.0      0.0        0.0     1.0   \n",
       "\n",
       "   Action  Sci-Fi  ...  Horror  (no genres listed)  Fantasy  Thriller  Drama  \\\n",
       "0     0.0     0.0  ...     0.0                 0.0      1.0       0.0    0.0   \n",
       "1     0.0     0.0  ...     0.0                 0.0      1.0       0.0    0.0   \n",
       "2     0.0     0.0  ...     0.0                 0.0      0.0       0.0    0.0   \n",
       "3     0.0     0.0  ...     0.0                 0.0      0.0       0.0    1.0   \n",
       "4     0.0     0.0  ...     0.0                 0.0      0.0       0.0    0.0   \n",
       "\n",
       "   IMAX  adult  original_language  popularity  release_date  \n",
       "0   0.0      0                 19      22.773          1995  \n",
       "1   0.0      0                 19       2.947          1995  \n",
       "2   0.0      0                 19       6.076          1995  \n",
       "3   0.0      0                 19       2.917          1995  \n",
       "4   0.0      0                 19       6.817          1995  \n",
       "\n",
       "[5 rows x 24 columns]"
      ]
     },
     "execution_count": 49,
     "metadata": {},
     "output_type": "execute_result"
    }
   ],
   "source": [
    "df_X.head()"
   ]
  },
  {
   "cell_type": "markdown",
   "metadata": {},
   "source": [
    "## Regression Model"
   ]
  },
  {
   "cell_type": "code",
   "execution_count": 37,
   "metadata": {},
   "outputs": [],
   "source": [
    "class Regressor(cl.Classifier):\n",
    "    \"\"\" Classe réprésentant une régression.\n",
    "    \"\"\"\n",
    "\n",
    "    def __init__(self, dimension_kernel, learning_rate, kernel, max_iter=10):\n",
    "        \"\"\"\n",
    "        \"\"\"\n",
    "\n",
    "        self.dimension_kernel = dimension_kernel\n",
    "        self.learning_rate = learning_rate\n",
    "        self.kernel = kernel\n",
    "        self.max_iter = max_iter\n",
    "        self.w = np.zeros(self.dimension_kernel)\n",
    "        \n",
    "    def predict(self, x):\n",
    "        \"\"\" \n",
    "        \"\"\"\n",
    "        \n",
    "        return self.kernel.transform(x).dot(self.w.T)\n",
    "    \n",
    "\n",
    "    def train(self, labeledSet):\n",
    "        \"\"\" \n",
    "        \"\"\"\n",
    "        for _ in range(self.max_iter):\n",
    "            f = self.kernel.transform(labeledSet.x).dot(self.w.T).reshape(-1, 1)\n",
    "            mse_g = -2 * (self.kernel.transform(labeledSet.x) * \n",
    "                          (labeledSet.y - f)).mean(axis=0)\n",
    "            self.w -= self.learning_rate * mse_g\n",
    "            \n",
    "    def accuracy(self, labeledSet):\n",
    "        \"\"\"\n",
    "        \"\"\"\n",
    "        mse = np.mean((self.predict(labeledSet.x)[:, np.newaxis] - labeledSet.y)**2)\n",
    "        print(\"MSE : {}\".format(mse), \"\\n===\")\n",
    "        print(\"RMSE: {}\".format(np.sqrt(mse)), \"\\n====\")\n",
    "        \n",
    "    def plot_results(self, y, y_pred, title, cmap='viridis'):\n",
    "        \"\"\"\n",
    "        \"\"\"\n",
    "        fig, ax = plt.subplots(1, figsize=(16, 6))\n",
    "        results = pd.DataFrame(np.hstack((y, y_pred[:, np.newaxis])), \n",
    "                               columns=['y', 'y_pred'], \n",
    "                               index=range(len(y_pred)))\n",
    "        results.plot(ax=ax, cmap=cmap)\n",
    "        plt.title(title, fontsize=16)"
   ]
  },
  {
   "cell_type": "code",
   "execution_count": 16,
   "metadata": {},
   "outputs": [],
   "source": [
    "# Splitting data\n",
    "train_set, test_set = split(regressor_set, 0.2)"
   ]
  },
  {
   "cell_type": "code",
   "execution_count": 27,
   "metadata": {},
   "outputs": [],
   "source": [
    "# Declaring kernels\n",
    "nokernel = cl.NoKernel()\n",
    "kernel_bias = cl.KernelBias()\n",
    "kernel_poly = cl.KernelPolytwo()"
   ]
  },
  {
   "cell_type": "markdown",
   "metadata": {},
   "source": [
    "### Regression sans Kernel"
   ]
  },
  {
   "cell_type": "code",
   "execution_count": 38,
   "metadata": {},
   "outputs": [
    {
     "name": "stdout",
     "output_type": "stream",
     "text": [
      "MSE : 3.450993779440629 \n",
      "===\n",
      "RMSE: 1.8576850592715195 \n",
      "====\n"
     ]
    },
    {
     "data": {
      "image/png": "[encoded data removed]",
      "text/plain": [
       "<Figure size 1152x432 with 1 Axes>"
      ]
     },
     "metadata": {
      "needs_background": "light"
     },
     "output_type": "display_data"
    }
   ],
   "source": [
    "# Declaring Regressor\n",
    "regressor = Regressor(regressor_set.x.shape[1], 0.1, nokernel, 200)\n",
    "# Training Regressor\n",
    "regressor.train(train_set)\n",
    "# Testing Regressor\n",
    "y_pred = regressor.predict(test_set.x)\n",
    "# Scoring\n",
    "regressor.accuracy(test_set)\n",
    "# Plotting Results\n",
    "regressor.plot_results(test_set.y, y_pred, \n",
    "                       'Valeurs prédites contre valeurs réelles sans kernel')"
   ]
  },
  {
   "cell_type": "markdown",
   "metadata": {},
   "source": [
    "### Regression avec Kernel bias"
   ]
  },
  {
   "cell_type": "code",
   "execution_count": 42,
   "metadata": {},
   "outputs": [
    {
     "name": "stdout",
     "output_type": "stream",
     "text": [
      "MSE : 2.1100275917385716 \n",
      "===\n",
      "RMSE: 1.4525934020704387 \n",
      "====\n"
     ]
    },
    {
     "data": {
      "image/png": "[encoded data removed]",
      "text/plain": [
       "<Figure size 1152x432 with 1 Axes>"
      ]
     },
     "metadata": {
      "needs_background": "light"
     },
     "output_type": "display_data"
    }
   ],
   "source": [
    "# Declaring Regressor\n",
    "regressor_bias = Regressor(regressor_set.x.shape[1]+1, 0.1, kernel_bias, 200)\n",
    "# Training Regressor\n",
    "regressor_bias.train(train_set)\n",
    "# Testing Regressor\n",
    "ypred_bias = regressor_poly.predict(test_set.x)\n",
    "# Scoring\n",
    "regressor_bias.accuracy(test_set)\n",
    "# Plotting Results\n",
    "regressor_bias.plot_results(test_set.y, y_pred,\n",
    "                           'Valeurs prédites contre valeurs réelles avec Kernel Bias',\n",
    "                           cmap='plasma')"
   ]
  },
  {
   "cell_type": "markdown",
   "metadata": {},
   "source": [
    "### Regression avec Kernel poly"
   ]
  },
  {
   "cell_type": "code",
   "execution_count": 47,
   "metadata": {},
   "outputs": [
    {
     "name": "stdout",
     "output_type": "stream",
     "text": [
      "MSE : 2.0683085288924663 \n",
      "===\n",
      "RMSE: 1.4381615100163354 \n",
      "====\n"
     ]
    },
    {
     "data": {
      "image/png": "[encoded data removed]",
      "text/plain": [
       "<Figure size 1152x432 with 1 Axes>"
      ]
     },
     "metadata": {
      "needs_background": "light"
     },
     "output_type": "display_data"
    }
   ],
   "source": [
    "# Declaring Regressor\n",
    "regressor_poly = Regressor((regressor_set.x.shape[1]*2)+1, 0.1, kernel_poly, 200)\n",
    "# Training Regressor\n",
    "regressor_poly.train(train_set)\n",
    "# Testing Regressor\n",
    "ypred_poly = regressor_poly.predict(test_set.x)\n",
    "# Scoring\n",
    "regressor_poly.accuracy(test_set)\n",
    "# Plotting Results\n",
    "regressor_poly.plot_results(test_set.y, y_pred,\n",
    "                            title='Valeurs prédites contre valeurs réelles avec Kernel Poly',\n",
    "                            cmap='summer')"
   ]
  },
  {
   "cell_type": "markdown",
   "metadata": {},
   "source": [
    "## Classification "
   ]
  },
  {
   "cell_type": "code",
   "execution_count": null,
   "metadata": {},
   "outputs": [],
   "source": []
  },
  {
   "cell_type": "markdown",
   "metadata": {},
   "source": [
    "## Feature engineering\n",
    "A vous de créer les caractéristiques de description des données qui permettront d'améliorer les performances dans les tâches que vous aurez choisi d'aborder dans le projet."
   ]
  },
  {
   "cell_type": "code",
   "execution_count": null,
   "metadata": {
    "scrolled": false
   },
   "outputs": [],
   "source": [
    "# Faire un dictionnaire avec tous les acteurs (acteur => indice)\n",
    "# + un dictionnaire inversé (indice => acteur)\n",
    "actors = dict()\n",
    "actors_inv = dict()\n",
    "for lista in act:\n",
    "    for a in lista:\n",
    "        # affecte une valeur à une clé si la clé n'est pas utilisée\n",
    "        res = actors.setdefault(a['name'], len(actors))\n",
    "        if res == len(actors)-1:\n",
    "            actors_inv[len(actors)-1] = a['name']\n",
    "\n",
    "# Exemple de transformation supplémentaire\n",
    "# Dans combien de films de base joue Tom Hanks? (Réponse 57)\n",
    "# Dans combien de comédies...\n",
    "\n",
    "# => On voit qu'il est possible de créer facilement des nouvelles caractéristiques qui\n",
    "# apporteront des informations utiles pour certaines tâches\n"
   ]
  }
 ],
 "metadata": {
  "kernelspec": {
   "display_name": "Python 3",
   "language": "python",
   "name": "python3"
  },
  "language_info": {
   "codemirror_mode": {
    "name": "ipython",
    "version": 3
   },
   "file_extension": ".py",
   "mimetype": "text/x-python",
   "name": "python",
   "nbconvert_exporter": "python",
   "pygments_lexer": "ipython3",
   "version": "3.5.3"
  },
  "toc": {
   "base_numbering": 1,
   "nav_menu": {},
   "number_sections": true,
   "sideBar": true,
   "skip_h1_title": false,
   "title_cell": "Table of Contents",
   "title_sidebar": "Contents",
   "toc_cell": false,
   "toc_position": {},
   "toc_section_display": true,
   "toc_window_display": true
  },
  "varInspector": {
   "cols": {
    "lenName": 16,
    "lenType": 16,
    "lenVar": 40
   },
   "kernels_config": {
    "python": {
     "delete_cmd_postfix": "",
     "delete_cmd_prefix": "del ",
     "library": "var_list.py",
     "varRefreshCmd": "print(var_dic_list())"
    },
    "r": {
     "delete_cmd_postfix": ") ",
     "delete_cmd_prefix": "rm(",
     "library": "var_list.r",
     "varRefreshCmd": "cat(var_dic_list()) "
    }
   },
   "types_to_exclude": [
    "module",
    "function",
    "builtin_function_or_method",
    "instance",
    "_Feature"
   ],
   "window_display": false
  }
 },
 "nbformat": 4,
 "nbformat_minor": 2
}
