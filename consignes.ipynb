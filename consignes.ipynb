{
 "cells": [
  {
   "cell_type": "markdown",
   "metadata": {},
   "source": [
    "# Analyse de données de films"
   ]
  },
  {
   "cell_type": "markdown",
   "metadata": {},
   "source": [
    "Nous proposons de travailler sur des données décrivant des films. Les possibilités sont larges et vous êtes évalués sur vos propositions et votre méthodologie plus que sur vos résultats.\n",
    "\n",
    "Les données de départ sont disponibles sur:\n",
    "https://grouplens.org/datasets/movielens/\n",
    "au format CSV. \n",
    "\n",
    "Nous nous intéresserons en particulier au jeu de données: **MovieLens 20M Dataset**. Dans ce jeu de données, vous disposez entre autre de:\n",
    "* Idendifiant du film dans IMdb et TMdb (ça sera important ensuite)\n",
    "* Catégorie(s) du film\n",
    "* Titre du film\n",
    "* Notes données par les internautes aux films\n",
    "\n",
    "Afin de rendre le projet plus intéressant, nous ajoutons des données sur les acteurs et producteurs associés aux films (récupéré sur TMdb). Ces données sont disponibles sur les liens suivants:\n",
    "\n",
    "http://webia.lip6.fr/~guigue/film_v2.pkl <br>\n",
    "http://webia.lip6.fr/~guigue/act_v2.pkl <br>\n",
    "http://webia.lip6.fr/~guigue/crew_v2.pkl\n",
    "\n",
    "Ces fichiers contiennent respectivement : une nouvelle description des films (dont l'identifiant TMdb et la note moyenne donnée par les internautes, la date de sortie,...), une description des acteurs de chaque film et une description des équipes (scénariste, producteur, metteur en scène) pour chaque film.\n",
    "\n",
    "Ces données sont des listes de taille 26908, chaque élément de la liste correspondant à un dictionnaire dont vous étudierez les clés pour récupérer les informations utiles.\n",
    "\n",
    "**ATTENTION** Les contraintes de récupération d'informations en ligne font que la base MovieLens compte 27278 films mais les fichiers ci-dessus n'en comptent que 26908. Le plus simple est probablement d'éliminer les films de MovieLens qui ne sont pas dans cette seconde base."
   ]
  },
  {
   "cell_type": "markdown",
   "metadata": {},
   "source": [
    "## Consignes générales pour l'analyse des données\n",
    "\n",
    "Vous devez proposer plusieurs analyses des données, qui devront à minima utiliser les\n",
    " techniques suivantes:\n",
    " \n",
    "1. Mettre en forme les données pour identifier les acteurs et les catégories, les indexer\n",
    "1. Traiter au moins un problème de régression supervisé (par exemple la prédiction de la note moyenne donnée à un film par les internautes).\n",
    "1. Traiter au moins un problème de classification supervisé (par exemple la prédiction de la catégorie d'un film)\n",
    "1. Utiliser les données catégorielles (catégories, acteurs,...) de manière discrète ET de manière coninue (*dummy coding*) dans des approches différentes\n",
    "1. Proposer au moins une approche de catégorisation non supervisée (pour regrouper les acteurs par exemple)\n",
    "1. Mener une campagne d'expérience permettant de comparer les performances sur un problème en fonction des valeurs d'un paramètre (et donc, in fine, trouver la meilleure valeur du paramètre)\n",
    "1. Proposer quelques illustrations"
   ]
  },
  {
   "cell_type": "code",
   "execution_count": 1,
   "metadata": {},
   "outputs": [],
   "source": [
    "import numpy as np\n",
    "import pandas as pd\n",
    "import matplotlib.pyplot as plt\n",
    "%matplotlib inline\n",
    "import pickle as pkl\n",
    "from functools import reduce\n",
    "import glob\n",
    "\n",
    "from IPython.core.interactiveshell import InteractiveShell\n",
    "InteractiveShell.ast_node_interactivity = \"all\""
   ]
  },
  {
   "cell_type": "markdown",
   "metadata": {},
   "source": [
    "## Chargement des données (base MovieLens + enrichissements)"
   ]
  },
  {
   "cell_type": "code",
   "execution_count": 2,
   "metadata": {},
   "outputs": [
    {
     "name": "stdout",
     "output_type": "stream",
     "text": [
      "Chargement des données MoviesLens\n",
      "\t ml-20m/movies.csv...\n",
      "\t ml-20m/genome-scores.csv...\n",
      "\t ml-20m/genome-tags.csv...\n",
      "\t ml-20m/links.csv...\n",
      "\t ml-20m/ratings.csv...\n",
      "\t ml-20m/tags.csv...\n",
      "Done\n"
     ]
    },
    {
     "data": {
      "text/html": [
       "<div>\n",
       "<style scoped>\n",
       "    .dataframe tbody tr th:only-of-type {\n",
       "        vertical-align: middle;\n",
       "    }\n",
       "\n",
       "    .dataframe tbody tr th {\n",
       "        vertical-align: top;\n",
       "    }\n",
       "\n",
       "    .dataframe thead th {\n",
       "        text-align: right;\n",
       "    }\n",
       "</style>\n",
       "<table border=\"1\" class=\"dataframe\">\n",
       "  <thead>\n",
       "    <tr style=\"text-align: right;\">\n",
       "      <th></th>\n",
       "      <th>movieId</th>\n",
       "      <th>title</th>\n",
       "      <th>genres</th>\n",
       "    </tr>\n",
       "  </thead>\n",
       "  <tbody>\n",
       "    <tr>\n",
       "      <th>0</th>\n",
       "      <td>1</td>\n",
       "      <td>Toy Story (1995)</td>\n",
       "      <td>Adventure|Animation|Children|Comedy|Fantasy</td>\n",
       "    </tr>\n",
       "    <tr>\n",
       "      <th>1</th>\n",
       "      <td>2</td>\n",
       "      <td>Jumanji (1995)</td>\n",
       "      <td>Adventure|Children|Fantasy</td>\n",
       "    </tr>\n",
       "    <tr>\n",
       "      <th>2</th>\n",
       "      <td>3</td>\n",
       "      <td>Grumpier Old Men (1995)</td>\n",
       "      <td>Comedy|Romance</td>\n",
       "    </tr>\n",
       "    <tr>\n",
       "      <th>3</th>\n",
       "      <td>4</td>\n",
       "      <td>Waiting to Exhale (1995)</td>\n",
       "      <td>Comedy|Drama|Romance</td>\n",
       "    </tr>\n",
       "    <tr>\n",
       "      <th>4</th>\n",
       "      <td>5</td>\n",
       "      <td>Father of the Bride Part II (1995)</td>\n",
       "      <td>Comedy</td>\n",
       "    </tr>\n",
       "  </tbody>\n",
       "</table>\n",
       "</div>"
      ],
      "text/plain": [
       "   movieId                               title  \\\n",
       "0        1                    Toy Story (1995)   \n",
       "1        2                      Jumanji (1995)   \n",
       "2        3             Grumpier Old Men (1995)   \n",
       "3        4            Waiting to Exhale (1995)   \n",
       "4        5  Father of the Bride Part II (1995)   \n",
       "\n",
       "                                        genres  \n",
       "0  Adventure|Animation|Children|Comedy|Fantasy  \n",
       "1                   Adventure|Children|Fantasy  \n",
       "2                               Comedy|Romance  \n",
       "3                         Comedy|Drama|Romance  \n",
       "4                                       Comedy  "
      ]
     },
     "execution_count": 2,
     "metadata": {},
     "output_type": "execute_result"
    },
    {
     "data": {
      "text/html": [
       "<div>\n",
       "<style scoped>\n",
       "    .dataframe tbody tr th:only-of-type {\n",
       "        vertical-align: middle;\n",
       "    }\n",
       "\n",
       "    .dataframe tbody tr th {\n",
       "        vertical-align: top;\n",
       "    }\n",
       "\n",
       "    .dataframe thead th {\n",
       "        text-align: right;\n",
       "    }\n",
       "</style>\n",
       "<table border=\"1\" class=\"dataframe\">\n",
       "  <thead>\n",
       "    <tr style=\"text-align: right;\">\n",
       "      <th></th>\n",
       "      <th>movieId</th>\n",
       "      <th>tagId</th>\n",
       "      <th>relevance</th>\n",
       "    </tr>\n",
       "  </thead>\n",
       "  <tbody>\n",
       "    <tr>\n",
       "      <th>0</th>\n",
       "      <td>1</td>\n",
       "      <td>1</td>\n",
       "      <td>0.02500</td>\n",
       "    </tr>\n",
       "    <tr>\n",
       "      <th>1</th>\n",
       "      <td>1</td>\n",
       "      <td>2</td>\n",
       "      <td>0.02500</td>\n",
       "    </tr>\n",
       "    <tr>\n",
       "      <th>2</th>\n",
       "      <td>1</td>\n",
       "      <td>3</td>\n",
       "      <td>0.05775</td>\n",
       "    </tr>\n",
       "    <tr>\n",
       "      <th>3</th>\n",
       "      <td>1</td>\n",
       "      <td>4</td>\n",
       "      <td>0.09675</td>\n",
       "    </tr>\n",
       "    <tr>\n",
       "      <th>4</th>\n",
       "      <td>1</td>\n",
       "      <td>5</td>\n",
       "      <td>0.14675</td>\n",
       "    </tr>\n",
       "  </tbody>\n",
       "</table>\n",
       "</div>"
      ],
      "text/plain": [
       "   movieId  tagId  relevance\n",
       "0        1      1    0.02500\n",
       "1        1      2    0.02500\n",
       "2        1      3    0.05775\n",
       "3        1      4    0.09675\n",
       "4        1      5    0.14675"
      ]
     },
     "execution_count": 2,
     "metadata": {},
     "output_type": "execute_result"
    },
    {
     "data": {
      "text/html": [
       "<div>\n",
       "<style scoped>\n",
       "    .dataframe tbody tr th:only-of-type {\n",
       "        vertical-align: middle;\n",
       "    }\n",
       "\n",
       "    .dataframe tbody tr th {\n",
       "        vertical-align: top;\n",
       "    }\n",
       "\n",
       "    .dataframe thead th {\n",
       "        text-align: right;\n",
       "    }\n",
       "</style>\n",
       "<table border=\"1\" class=\"dataframe\">\n",
       "  <thead>\n",
       "    <tr style=\"text-align: right;\">\n",
       "      <th></th>\n",
       "      <th>tagId</th>\n",
       "      <th>tag</th>\n",
       "    </tr>\n",
       "  </thead>\n",
       "  <tbody>\n",
       "    <tr>\n",
       "      <th>0</th>\n",
       "      <td>1</td>\n",
       "      <td>007</td>\n",
       "    </tr>\n",
       "    <tr>\n",
       "      <th>1</th>\n",
       "      <td>2</td>\n",
       "      <td>007 (series)</td>\n",
       "    </tr>\n",
       "    <tr>\n",
       "      <th>2</th>\n",
       "      <td>3</td>\n",
       "      <td>18th century</td>\n",
       "    </tr>\n",
       "    <tr>\n",
       "      <th>3</th>\n",
       "      <td>4</td>\n",
       "      <td>1920s</td>\n",
       "    </tr>\n",
       "    <tr>\n",
       "      <th>4</th>\n",
       "      <td>5</td>\n",
       "      <td>1930s</td>\n",
       "    </tr>\n",
       "  </tbody>\n",
       "</table>\n",
       "</div>"
      ],
      "text/plain": [
       "   tagId           tag\n",
       "0      1           007\n",
       "1      2  007 (series)\n",
       "2      3  18th century\n",
       "3      4         1920s\n",
       "4      5         1930s"
      ]
     },
     "execution_count": 2,
     "metadata": {},
     "output_type": "execute_result"
    },
    {
     "data": {
      "text/html": [
       "<div>\n",
       "<style scoped>\n",
       "    .dataframe tbody tr th:only-of-type {\n",
       "        vertical-align: middle;\n",
       "    }\n",
       "\n",
       "    .dataframe tbody tr th {\n",
       "        vertical-align: top;\n",
       "    }\n",
       "\n",
       "    .dataframe thead th {\n",
       "        text-align: right;\n",
       "    }\n",
       "</style>\n",
       "<table border=\"1\" class=\"dataframe\">\n",
       "  <thead>\n",
       "    <tr style=\"text-align: right;\">\n",
       "      <th></th>\n",
       "      <th>movieId</th>\n",
       "      <th>imdbId</th>\n",
       "      <th>tmdbId</th>\n",
       "    </tr>\n",
       "  </thead>\n",
       "  <tbody>\n",
       "    <tr>\n",
       "      <th>0</th>\n",
       "      <td>1</td>\n",
       "      <td>114709</td>\n",
       "      <td>862.0</td>\n",
       "    </tr>\n",
       "    <tr>\n",
       "      <th>1</th>\n",
       "      <td>2</td>\n",
       "      <td>113497</td>\n",
       "      <td>8844.0</td>\n",
       "    </tr>\n",
       "    <tr>\n",
       "      <th>2</th>\n",
       "      <td>3</td>\n",
       "      <td>113228</td>\n",
       "      <td>15602.0</td>\n",
       "    </tr>\n",
       "    <tr>\n",
       "      <th>3</th>\n",
       "      <td>4</td>\n",
       "      <td>114885</td>\n",
       "      <td>31357.0</td>\n",
       "    </tr>\n",
       "    <tr>\n",
       "      <th>4</th>\n",
       "      <td>5</td>\n",
       "      <td>113041</td>\n",
       "      <td>11862.0</td>\n",
       "    </tr>\n",
       "  </tbody>\n",
       "</table>\n",
       "</div>"
      ],
      "text/plain": [
       "   movieId  imdbId   tmdbId\n",
       "0        1  114709    862.0\n",
       "1        2  113497   8844.0\n",
       "2        3  113228  15602.0\n",
       "3        4  114885  31357.0\n",
       "4        5  113041  11862.0"
      ]
     },
     "execution_count": 2,
     "metadata": {},
     "output_type": "execute_result"
    },
    {
     "data": {
      "text/html": [
       "<div>\n",
       "<style scoped>\n",
       "    .dataframe tbody tr th:only-of-type {\n",
       "        vertical-align: middle;\n",
       "    }\n",
       "\n",
       "    .dataframe tbody tr th {\n",
       "        vertical-align: top;\n",
       "    }\n",
       "\n",
       "    .dataframe thead th {\n",
       "        text-align: right;\n",
       "    }\n",
       "</style>\n",
       "<table border=\"1\" class=\"dataframe\">\n",
       "  <thead>\n",
       "    <tr style=\"text-align: right;\">\n",
       "      <th></th>\n",
       "      <th>userId</th>\n",
       "      <th>movieId</th>\n",
       "      <th>rating</th>\n",
       "      <th>timestamp</th>\n",
       "    </tr>\n",
       "  </thead>\n",
       "  <tbody>\n",
       "    <tr>\n",
       "      <th>0</th>\n",
       "      <td>1</td>\n",
       "      <td>2</td>\n",
       "      <td>3.5</td>\n",
       "      <td>1112486027</td>\n",
       "    </tr>\n",
       "    <tr>\n",
       "      <th>1</th>\n",
       "      <td>1</td>\n",
       "      <td>29</td>\n",
       "      <td>3.5</td>\n",
       "      <td>1112484676</td>\n",
       "    </tr>\n",
       "    <tr>\n",
       "      <th>2</th>\n",
       "      <td>1</td>\n",
       "      <td>32</td>\n",
       "      <td>3.5</td>\n",
       "      <td>1112484819</td>\n",
       "    </tr>\n",
       "    <tr>\n",
       "      <th>3</th>\n",
       "      <td>1</td>\n",
       "      <td>47</td>\n",
       "      <td>3.5</td>\n",
       "      <td>1112484727</td>\n",
       "    </tr>\n",
       "    <tr>\n",
       "      <th>4</th>\n",
       "      <td>1</td>\n",
       "      <td>50</td>\n",
       "      <td>3.5</td>\n",
       "      <td>1112484580</td>\n",
       "    </tr>\n",
       "  </tbody>\n",
       "</table>\n",
       "</div>"
      ],
      "text/plain": [
       "   userId  movieId  rating   timestamp\n",
       "0       1        2     3.5  1112486027\n",
       "1       1       29     3.5  1112484676\n",
       "2       1       32     3.5  1112484819\n",
       "3       1       47     3.5  1112484727\n",
       "4       1       50     3.5  1112484580"
      ]
     },
     "execution_count": 2,
     "metadata": {},
     "output_type": "execute_result"
    },
    {
     "data": {
      "text/html": [
       "<div>\n",
       "<style scoped>\n",
       "    .dataframe tbody tr th:only-of-type {\n",
       "        vertical-align: middle;\n",
       "    }\n",
       "\n",
       "    .dataframe tbody tr th {\n",
       "        vertical-align: top;\n",
       "    }\n",
       "\n",
       "    .dataframe thead th {\n",
       "        text-align: right;\n",
       "    }\n",
       "</style>\n",
       "<table border=\"1\" class=\"dataframe\">\n",
       "  <thead>\n",
       "    <tr style=\"text-align: right;\">\n",
       "      <th></th>\n",
       "      <th>userId</th>\n",
       "      <th>movieId</th>\n",
       "      <th>tag</th>\n",
       "      <th>timestamp</th>\n",
       "    </tr>\n",
       "  </thead>\n",
       "  <tbody>\n",
       "    <tr>\n",
       "      <th>0</th>\n",
       "      <td>18</td>\n",
       "      <td>4141</td>\n",
       "      <td>Mark Waters</td>\n",
       "      <td>1240597180</td>\n",
       "    </tr>\n",
       "    <tr>\n",
       "      <th>1</th>\n",
       "      <td>65</td>\n",
       "      <td>208</td>\n",
       "      <td>dark hero</td>\n",
       "      <td>1368150078</td>\n",
       "    </tr>\n",
       "    <tr>\n",
       "      <th>2</th>\n",
       "      <td>65</td>\n",
       "      <td>353</td>\n",
       "      <td>dark hero</td>\n",
       "      <td>1368150079</td>\n",
       "    </tr>\n",
       "    <tr>\n",
       "      <th>3</th>\n",
       "      <td>65</td>\n",
       "      <td>521</td>\n",
       "      <td>noir thriller</td>\n",
       "      <td>1368149983</td>\n",
       "    </tr>\n",
       "    <tr>\n",
       "      <th>4</th>\n",
       "      <td>65</td>\n",
       "      <td>592</td>\n",
       "      <td>dark hero</td>\n",
       "      <td>1368150078</td>\n",
       "    </tr>\n",
       "  </tbody>\n",
       "</table>\n",
       "</div>"
      ],
      "text/plain": [
       "   userId  movieId            tag   timestamp\n",
       "0      18     4141    Mark Waters  1240597180\n",
       "1      65      208      dark hero  1368150078\n",
       "2      65      353      dark hero  1368150079\n",
       "3      65      521  noir thriller  1368149983\n",
       "4      65      592      dark hero  1368150078"
      ]
     },
     "execution_count": 2,
     "metadata": {},
     "output_type": "execute_result"
    }
   ],
   "source": [
    "# Chargement des données MovieLens\n",
    "\n",
    "print(\"Chargement des données MoviesLens\")\n",
    "for fname in glob.glob(\"ml-20m/*.csv\"):\n",
    "    print(\"\\t {}...\".format(fname))\n",
    "    name = fname.split('/')[1].split('.')[0].replace('-', '_')\n",
    "    vars()[name] = pd.read_csv(fname, encoding='utf8')\n",
    "print(\"Done\")\n",
    "\n",
    "movies.head()\n",
    "genome_scores.head()\n",
    "genome_tags.head()\n",
    "links.head()\n",
    "ratings.head()\n",
    "tags.head()"
   ]
  },
  {
   "cell_type": "code",
   "execution_count": 3,
   "metadata": {},
   "outputs": [
    {
     "name": "stdout",
     "output_type": "stream",
     "text": [
      "Chargement des données complémentaires\n",
      "\t ml-20m/act_v2.pkl\n",
      "\t ml-20m/film_v2.pkl\n",
      "\t ml-20m/crew_v2.pkl\n",
      "Done\n"
     ]
    }
   ],
   "source": [
    "# Chargement des données complémentaires\n",
    "\n",
    "print(\"Chargement des données complémentaires\")\n",
    "for fname in glob.glob(\"ml-20m/*.pkl\"):\n",
    "    print(\"\\t {}\".format(fname))\n",
    "    name = fname.split('/')[1].split('_')[0]\n",
    "    vars()[name] = pkl.load(open(fname, \"rb\"))\n",
    "print(\"Done\")\n",
    "\n"
   ]
  },
  {
   "cell_type": "code",
   "execution_count": 4,
   "metadata": {},
   "outputs": [
    {
     "data": {
      "text/plain": [
       "38644"
      ]
     },
     "execution_count": 4,
     "metadata": {},
     "output_type": "execute_result"
    },
    {
     "data": {
      "text/plain": [
       "(1128, 2)"
      ]
     },
     "execution_count": 4,
     "metadata": {},
     "output_type": "execute_result"
    }
   ],
   "source": [
    "len(tags.tag.unique())\n",
    "genome_tags.shape"
   ]
  },
  {
   "cell_type": "code",
   "execution_count": 5,
   "metadata": {
    "scrolled": true
   },
   "outputs": [
    {
     "data": {
      "text/plain": [
       "{'cast_id': 14,\n",
       " 'character': 'Woody (voice)',\n",
       " 'credit_id': '52fe4284c3a36847f8024f95',\n",
       " 'gender': 2,\n",
       " 'id': 31,\n",
       " 'name': 'Tom Hanks',\n",
       " 'order': 0,\n",
       " 'profile_path': '/xxPMucou2wRDxLrud8i2D4dsywh.jpg'}"
      ]
     },
     "execution_count": 5,
     "metadata": {},
     "output_type": "execute_result"
    }
   ],
   "source": [
    "act[0][0]"
   ]
  },
  {
   "cell_type": "code",
   "execution_count": 6,
   "metadata": {},
   "outputs": [
    {
     "data": {
      "text/plain": [
       "{'credit_id': '52fe4284c3a36847f8024f49',\n",
       " 'department': 'Directing',\n",
       " 'gender': 2,\n",
       " 'id': 7879,\n",
       " 'job': 'Director',\n",
       " 'name': 'John Lasseter',\n",
       " 'profile_path': '/7EdqiNbr4FRjIhKHyPPdFfEEEFG.jpg'}"
      ]
     },
     "execution_count": 6,
     "metadata": {},
     "output_type": "execute_result"
    }
   ],
   "source": [
    "crew[0][0]"
   ]
  },
  {
   "cell_type": "code",
   "execution_count": 7,
   "metadata": {},
   "outputs": [
    {
     "data": {
      "text/plain": [
       "[{'adult': False,\n",
       "  'backdrop_path': '/dji4Fm0gCDVb9DQQMRvAI8YNnTz.jpg',\n",
       "  'genre_ids': [16, 35, 10751],\n",
       "  'id': 862,\n",
       "  'original_language': 'en',\n",
       "  'original_title': 'Toy Story',\n",
       "  'overview': \"Led by Woody, Andy's toys live happily in his room until Andy's birthday brings Buzz Lightyear onto the scene. Afraid of losing his place in Andy's heart, Woody plots against Buzz. But when circumstances separate Buzz and Woody from their owner, the duo eventually learns to put aside their differences.\",\n",
       "  'popularity': 22.773,\n",
       "  'poster_path': '/rhIRbceoE9lR4veEXuwCC2wARtG.jpg',\n",
       "  'release_date': '1995-10-30',\n",
       "  'title': 'Toy Story',\n",
       "  'video': False,\n",
       "  'vote_average': 7.9,\n",
       "  'vote_count': 9550}]"
      ]
     },
     "execution_count": 7,
     "metadata": {},
     "output_type": "execute_result"
    }
   ],
   "source": [
    "film[:1]"
   ]
  },
  {
   "cell_type": "markdown",
   "metadata": {},
   "source": [
    "## Mise en forme des données"
   ]
  },
  {
   "cell_type": "code",
   "execution_count": 8,
   "metadata": {},
   "outputs": [],
   "source": [
    "unique_cat = set(reduce(lambda a, b: a + b, movies.apply(lambda x: x.genres.split('|'), axis=1)))"
   ]
  },
  {
   "cell_type": "code",
   "execution_count": 9,
   "metadata": {},
   "outputs": [],
   "source": [
    "movies[list(unique_cat)] = pd.DataFrame(np.zeros((movies.shape[0], len(unique_cat))))\n",
    "    \n",
    "for i, row in movies.iterrows():\n",
    "    movies.loc[i, row['genres'].split('|')] = 1"
   ]
  },
  {
   "cell_type": "code",
   "execution_count": 10,
   "metadata": {},
   "outputs": [],
   "source": [
    "# Calculate ratings mean of users\n",
    "df_ratings = ratings[['movieId', 'rating']].groupby(['movieId'], as_index=False).mean()\n",
    "\n",
    "# Count number of ratings by movie\n",
    "df_ratings['nb_ratings'] = ratings[['userId', 'movieId']].groupby(['movieId']).count()\n",
    "\n",
    "df_tags = tags[['movieId', 'userId']].groupby(['movieId'], as_index=False).count().rename(\n",
    "    columns={'userId':'nb_tags'})\n",
    "\n",
    "df_tags['all_tags'] = tags.groupby(['movieId'], as_index=False)['tag'].apply(list)\n",
    "df_tags['existing_tags'] = df_tags[['all_tags']].apply(lambda line: list(filter(\n",
    "    lambda tag: not genome_tags[genome_tags['tag'] == tag].empty, line['all_tags'])), axis=1)"
   ]
  },
  {
   "cell_type": "code",
   "execution_count": 11,
   "metadata": {},
   "outputs": [],
   "source": [
    "df_tags['existing_tagsId'] = df_tags[['existing_tags']].apply(lambda line: list(map(\n",
    "    lambda tag: genome_tags[genome_tags['tag'] == tag]['tagId'].iloc[0], \n",
    "    line['existing_tags'])), axis=1)"
   ]
  },
  {
   "cell_type": "code",
   "execution_count": 12,
   "metadata": {},
   "outputs": [],
   "source": [
    "df_tags['existing_tagsRelevance'] = df_tags[['movieId', 'existing_tagsId']].apply(\n",
    "    lambda line: list(map(lambda tagId: \n",
    "                          genome_scores[(genome_scores['movieId'] == line.movieId) & \\\n",
    "                                        (genome_scores['tagId'] == tagId)]['relevance'], \n",
    "                          line['existing_tagsId'])), axis=1)"
   ]
  },
  {
   "cell_type": "code",
   "execution_count": 19,
   "metadata": {},
   "outputs": [
    {
     "data": {
      "text/html": [
       "<div>\n",
       "<style scoped>\n",
       "    .dataframe tbody tr th:only-of-type {\n",
       "        vertical-align: middle;\n",
       "    }\n",
       "\n",
       "    .dataframe tbody tr th {\n",
       "        vertical-align: top;\n",
       "    }\n",
       "\n",
       "    .dataframe thead th {\n",
       "        text-align: right;\n",
       "    }\n",
       "</style>\n",
       "<table border=\"1\" class=\"dataframe\">\n",
       "  <thead>\n",
       "    <tr style=\"text-align: right;\">\n",
       "      <th></th>\n",
       "      <th>movieId</th>\n",
       "      <th>nb_tags</th>\n",
       "      <th>all_tags</th>\n",
       "      <th>existing_tags</th>\n",
       "      <th>existing_tagsId</th>\n",
       "      <th>existing_tagsRelevance</th>\n",
       "    </tr>\n",
       "  </thead>\n",
       "  <tbody>\n",
       "    <tr>\n",
       "      <th>0</th>\n",
       "      <td>1</td>\n",
       "      <td>436</td>\n",
       "      <td>[Watched, computer animation, Disney animated ...</td>\n",
       "      <td>[computer animation, animation, family, witty,...</td>\n",
       "      <td>[244, 64, 374, 1114, 29, 63, 64, 220, 230, 244...</td>\n",
       "      <td>[[0.9985], [0.98575], [0.8485], [0.77675], [0....</td>\n",
       "    </tr>\n",
       "    <tr>\n",
       "      <th>1</th>\n",
       "      <td>2</td>\n",
       "      <td>123</td>\n",
       "      <td>[time travel, adapted from:book, board game, c...</td>\n",
       "      <td>[time travel, adapted from:book, scary, time, ...</td>\n",
       "      <td>[1028, 22, 882, 1026, 1028, 377, 882, 1028, 58...</td>\n",
       "      <td>[[0.439], [0.602], [0.685], [0.4495], [0.439],...</td>\n",
       "    </tr>\n",
       "    <tr>\n",
       "      <th>2</th>\n",
       "      <td>3</td>\n",
       "      <td>18</td>\n",
       "      <td>[old people that is actually funny, sequel fev...</td>\n",
       "      <td>[sequel, sequel, comedy]</td>\n",
       "      <td>[901, 901, 230]</td>\n",
       "      <td>[[0.9505], [0.9505], [0.8467499999999999]]</td>\n",
       "    </tr>\n",
       "    <tr>\n",
       "      <th>3</th>\n",
       "      <td>4</td>\n",
       "      <td>6</td>\n",
       "      <td>[chick flick, revenge, characters, chick flick...</td>\n",
       "      <td>[chick flick, revenge, chick flick]</td>\n",
       "      <td>[201, 850, 201]</td>\n",
       "      <td>[[0.8665], [0.243], [0.8665]]</td>\n",
       "    </tr>\n",
       "    <tr>\n",
       "      <th>4</th>\n",
       "      <td>5</td>\n",
       "      <td>22</td>\n",
       "      <td>[Diane Keaton, family, sequel, Steve Martin, w...</td>\n",
       "      <td>[family, sequel, wedding, pregnancy, remake, f...</td>\n",
       "      <td>[374, 901, 1102, 808, 849, 374, 808, 1102]</td>\n",
       "      <td>[[0.8227500000000001], [0.937], [0.80675000000...</td>\n",
       "    </tr>\n",
       "  </tbody>\n",
       "</table>\n",
       "</div>"
      ],
      "text/plain": [
       "   movieId  nb_tags                                           all_tags  \\\n",
       "0        1      436  [Watched, computer animation, Disney animated ...   \n",
       "1        2      123  [time travel, adapted from:book, board game, c...   \n",
       "2        3       18  [old people that is actually funny, sequel fev...   \n",
       "3        4        6  [chick flick, revenge, characters, chick flick...   \n",
       "4        5       22  [Diane Keaton, family, sequel, Steve Martin, w...   \n",
       "\n",
       "                                       existing_tags  \\\n",
       "0  [computer animation, animation, family, witty,...   \n",
       "1  [time travel, adapted from:book, scary, time, ...   \n",
       "2                           [sequel, sequel, comedy]   \n",
       "3                [chick flick, revenge, chick flick]   \n",
       "4  [family, sequel, wedding, pregnancy, remake, f...   \n",
       "\n",
       "                                     existing_tagsId  \\\n",
       "0  [244, 64, 374, 1114, 29, 63, 64, 220, 230, 244...   \n",
       "1  [1028, 22, 882, 1026, 1028, 377, 882, 1028, 58...   \n",
       "2                                    [901, 901, 230]   \n",
       "3                                    [201, 850, 201]   \n",
       "4         [374, 901, 1102, 808, 849, 374, 808, 1102]   \n",
       "\n",
       "                              existing_tagsRelevance  \n",
       "0  [[0.9985], [0.98575], [0.8485], [0.77675], [0....  \n",
       "1  [[0.439], [0.602], [0.685], [0.4495], [0.439],...  \n",
       "2         [[0.9505], [0.9505], [0.8467499999999999]]  \n",
       "3                      [[0.8665], [0.243], [0.8665]]  \n",
       "4  [[0.8227500000000001], [0.937], [0.80675000000...  "
      ]
     },
     "execution_count": 19,
     "metadata": {},
     "output_type": "execute_result"
    }
   ],
   "source": [
    "df_tags.head()"
   ]
  },
  {
   "cell_type": "code",
   "execution_count": 79,
   "metadata": {},
   "outputs": [],
   "source": [
    "df_tags['mean_relevance'] = df_tags[['existing_tagsRelevance']].iloc[:5, :].apply(\n",
    "    lambda line sum , axis=1)"
   ]
  },
  {
   "cell_type": "code",
   "execution_count": 86,
   "metadata": {},
   "outputs": [],
   "source": [
    "df_tags.to_csv(\"Register.csv\", index=False)"
   ]
  },
  {
   "cell_type": "code",
   "execution_count": 83,
   "metadata": {},
   "outputs": [
    {
     "data": {
      "text/html": [
       "<div>\n",
       "<style scoped>\n",
       "    .dataframe tbody tr th:only-of-type {\n",
       "        vertical-align: middle;\n",
       "    }\n",
       "\n",
       "    .dataframe tbody tr th {\n",
       "        vertical-align: top;\n",
       "    }\n",
       "\n",
       "    .dataframe thead th {\n",
       "        text-align: right;\n",
       "    }\n",
       "</style>\n",
       "<table border=\"1\" class=\"dataframe\">\n",
       "  <thead>\n",
       "    <tr style=\"text-align: right;\">\n",
       "      <th></th>\n",
       "      <th>movieId</th>\n",
       "      <th>nb_tags</th>\n",
       "      <th>all_tags</th>\n",
       "      <th>existing_tags</th>\n",
       "      <th>existing_tagsId</th>\n",
       "      <th>existing_tagsRelevance</th>\n",
       "      <th>mean_relevance</th>\n",
       "    </tr>\n",
       "  </thead>\n",
       "  <tbody>\n",
       "    <tr>\n",
       "      <th>0</th>\n",
       "      <td>1</td>\n",
       "      <td>436</td>\n",
       "      <td>[Watched, computer animation, Disney animated ...</td>\n",
       "      <td>[computer animation, animation, family, witty,...</td>\n",
       "      <td>[244, 64, 374, 1114, 29, 63, 64, 220, 230, 244...</td>\n",
       "      <td>[[0.9985], [0.98575], [0.8485], [0.77675], [0....</td>\n",
       "      <td>[[[0.9985], [0.98575], [0.8485], [0.77675], [0...</td>\n",
       "    </tr>\n",
       "    <tr>\n",
       "      <th>1</th>\n",
       "      <td>2</td>\n",
       "      <td>123</td>\n",
       "      <td>[time travel, adapted from:book, board game, c...</td>\n",
       "      <td>[time travel, adapted from:book, scary, time, ...</td>\n",
       "      <td>[1028, 22, 882, 1026, 1028, 377, 882, 1028, 58...</td>\n",
       "      <td>[[0.439], [0.602], [0.685], [0.4495], [0.439],...</td>\n",
       "      <td>[[[0.439], [0.602], [0.685], [0.4495], [0.439]...</td>\n",
       "    </tr>\n",
       "    <tr>\n",
       "      <th>2</th>\n",
       "      <td>3</td>\n",
       "      <td>18</td>\n",
       "      <td>[old people that is actually funny, sequel fev...</td>\n",
       "      <td>[sequel, sequel, comedy]</td>\n",
       "      <td>[901, 901, 230]</td>\n",
       "      <td>[[0.9505], [0.9505], [0.8467499999999999]]</td>\n",
       "      <td>[[[0.9505], [0.9505], [0.8467499999999999]]]</td>\n",
       "    </tr>\n",
       "    <tr>\n",
       "      <th>3</th>\n",
       "      <td>4</td>\n",
       "      <td>6</td>\n",
       "      <td>[chick flick, revenge, characters, chick flick...</td>\n",
       "      <td>[chick flick, revenge, chick flick]</td>\n",
       "      <td>[201, 850, 201]</td>\n",
       "      <td>[[0.8665], [0.243], [0.8665]]</td>\n",
       "      <td>[[[0.8665], [0.243], [0.8665]]]</td>\n",
       "    </tr>\n",
       "    <tr>\n",
       "      <th>4</th>\n",
       "      <td>5</td>\n",
       "      <td>22</td>\n",
       "      <td>[Diane Keaton, family, sequel, Steve Martin, w...</td>\n",
       "      <td>[family, sequel, wedding, pregnancy, remake, f...</td>\n",
       "      <td>[374, 901, 1102, 808, 849, 374, 808, 1102]</td>\n",
       "      <td>[[0.8227500000000001], [0.937], [0.80675000000...</td>\n",
       "      <td>[[[0.8227500000000001], [0.937], [0.8067500000...</td>\n",
       "    </tr>\n",
       "  </tbody>\n",
       "</table>\n",
       "</div>"
      ],
      "text/plain": [
       "   movieId  nb_tags                                           all_tags  \\\n",
       "0        1      436  [Watched, computer animation, Disney animated ...   \n",
       "1        2      123  [time travel, adapted from:book, board game, c...   \n",
       "2        3       18  [old people that is actually funny, sequel fev...   \n",
       "3        4        6  [chick flick, revenge, characters, chick flick...   \n",
       "4        5       22  [Diane Keaton, family, sequel, Steve Martin, w...   \n",
       "\n",
       "                                       existing_tags  \\\n",
       "0  [computer animation, animation, family, witty,...   \n",
       "1  [time travel, adapted from:book, scary, time, ...   \n",
       "2                           [sequel, sequel, comedy]   \n",
       "3                [chick flick, revenge, chick flick]   \n",
       "4  [family, sequel, wedding, pregnancy, remake, f...   \n",
       "\n",
       "                                     existing_tagsId  \\\n",
       "0  [244, 64, 374, 1114, 29, 63, 64, 220, 230, 244...   \n",
       "1  [1028, 22, 882, 1026, 1028, 377, 882, 1028, 58...   \n",
       "2                                    [901, 901, 230]   \n",
       "3                                    [201, 850, 201]   \n",
       "4         [374, 901, 1102, 808, 849, 374, 808, 1102]   \n",
       "\n",
       "                              existing_tagsRelevance  \\\n",
       "0  [[0.9985], [0.98575], [0.8485], [0.77675], [0....   \n",
       "1  [[0.439], [0.602], [0.685], [0.4495], [0.439],...   \n",
       "2         [[0.9505], [0.9505], [0.8467499999999999]]   \n",
       "3                      [[0.8665], [0.243], [0.8665]]   \n",
       "4  [[0.8227500000000001], [0.937], [0.80675000000...   \n",
       "\n",
       "                                      mean_relevance  \n",
       "0  [[[0.9985], [0.98575], [0.8485], [0.77675], [0...  \n",
       "1  [[[0.439], [0.602], [0.685], [0.4495], [0.439]...  \n",
       "2       [[[0.9505], [0.9505], [0.8467499999999999]]]  \n",
       "3                    [[[0.8665], [0.243], [0.8665]]]  \n",
       "4  [[[0.8227500000000001], [0.937], [0.8067500000...  "
      ]
     },
     "execution_count": 83,
     "metadata": {},
     "output_type": "execute_result"
    }
   ],
   "source": [
    "df_tags.head()"
   ]
  },
  {
   "cell_type": "code",
   "execution_count": 89,
   "metadata": {},
   "outputs": [],
   "source": [
    "test = pd.read_csv('Register.csv')"
   ]
  },
  {
   "cell_type": "code",
   "execution_count": 93,
   "metadata": {},
   "outputs": [
    {
     "data": {
      "text/plain": [
       "0        [243    0.9985\\nName: relevance, dtype: float6...\n",
       "1        [2155    0.439\\nName: relevance, dtype: float6...\n",
       "2        [3156    0.9505\\nName: relevance, dtype: float...\n",
       "3        [3584    0.8665\\nName: relevance, dtype: float...\n",
       "4        [4885    0.82275\\nName: relevance, dtype: floa...\n",
       "5        [6480    0.89175\\nName: relevance, dtype: floa...\n",
       "6        [7630    0.9195\\nName: relevance, dtype: float...\n",
       "7        [7917    0.78525\\nName: relevance, dtype: floa...\n",
       "8        [9042    0.9745\\nName: relevance, dtype: float64]\n",
       "9        [10153    0.99975\\nName: relevance, dtype: flo...\n",
       "10       [12090    0.9975\\nName: relevance, dtype: floa...\n",
       "11       [12867    0.34775\\nName: relevance, dtype: flo...\n",
       "12                                                      []\n",
       "13       [14798    0.95625\\nName: relevance, dtype: flo...\n",
       "14       [16575    0.99025\\nName: relevance, dtype: flo...\n",
       "15       [18004    0.9795\\nName: relevance, dtype: floa...\n",
       "16       [18069    0.973\\nName: relevance, dtype: float...\n",
       "17       [19854    0.76475\\nName: relevance, dtype: flo...\n",
       "18       [20533    0.98875\\nName: relevance, dtype: flo...\n",
       "19       [22025    0.3375\\nName: relevance, dtype: floa...\n",
       "20       [23181    0.835\\nName: relevance, dtype: float...\n",
       "21       [23987    0.97825\\nName: relevance, dtype: flo...\n",
       "22                                                      []\n",
       "23       [26281    0.707\\nName: relevance, dtype: float...\n",
       "24       [27093    0.5445\\nName: relevance, dtype: floa...\n",
       "25       [29111    0.9985\\nName: relevance, dtype: floa...\n",
       "26       [29739    0.975\\nName: relevance, dtype: float...\n",
       "27       [30458    0.75825\\nName: relevance, dtype: flo...\n",
       "28       [31787    0.802\\nName: relevance, dtype: float...\n",
       "29                                                      []\n",
       "                               ...                        \n",
       "19515                                                   []\n",
       "19516                                                   []\n",
       "19517                                                   []\n",
       "19518                                                   []\n",
       "19519                                                   []\n",
       "19520                                                   []\n",
       "19521        [Series([], Name: relevance, dtype: float64)]\n",
       "19522        [Series([], Name: relevance, dtype: float64)]\n",
       "19523        [Series([], Name: relevance, dtype: float64)]\n",
       "19524        [Series([], Name: relevance, dtype: float64)]\n",
       "19525    [Series([], Name: relevance, dtype: float64), ...\n",
       "19526    [11700850    0.99125\\nName: relevance, dtype: ...\n",
       "19527                                                   []\n",
       "19528    [Series([], Name: relevance, dtype: float64), ...\n",
       "19529    [Series([], Name: relevance, dtype: float64), ...\n",
       "19530    [Series([], Name: relevance, dtype: float64), ...\n",
       "19531        [Series([], Name: relevance, dtype: float64)]\n",
       "19532                                                   []\n",
       "19533                                                   []\n",
       "19534        [Series([], Name: relevance, dtype: float64)]\n",
       "19535        [Series([], Name: relevance, dtype: float64)]\n",
       "19536    [Series([], Name: relevance, dtype: float64), ...\n",
       "19537    [11707196    0.95825\\nName: relevance, dtype: ...\n",
       "19538    [Series([], Name: relevance, dtype: float64), ...\n",
       "19539    [Series([], Name: relevance, dtype: float64), ...\n",
       "19540        [Series([], Name: relevance, dtype: float64)]\n",
       "19541        [Series([], Name: relevance, dtype: float64)]\n",
       "19542                                                   []\n",
       "19543    [11708691    0.978\\nName: relevance, dtype: fl...\n",
       "19544        [Series([], Name: relevance, dtype: float64)]\n",
       "Name: existing_tagsRelevance, Length: 19545, dtype: object"
      ]
     },
     "execution_count": 93,
     "metadata": {},
     "output_type": "execute_result"
    }
   ],
   "source": [
    "test['existing_tagsRelevance']"
   ]
  },
  {
   "cell_type": "markdown",
   "metadata": {},
   "source": [
    "## Feature engineering\n",
    "A vous de créer les caractéristiques de description des données qui permettront d'améliorer les performances dans les tâches que vous aurez choisi d'aborder dans le projet."
   ]
  },
  {
   "cell_type": "code",
   "execution_count": null,
   "metadata": {
    "scrolled": false
   },
   "outputs": [],
   "source": [
    "# Faire un dictionnaire avec tous les acteurs (acteur => indice)\n",
    "# + un dictionnaire inversé (indice => acteur)\n",
    "actors = dict()\n",
    "actors_inv = dict()\n",
    "for lista in act:\n",
    "    for a in lista:\n",
    "        # affecte une valeur à une clé si la clé n'est pas utilisée\n",
    "        res = actors.setdefault(a['name'], len(actors))\n",
    "        if res == len(actors)-1:\n",
    "            actors_inv[len(actors)-1] = a['name']\n",
    "\n",
    "# Exemple de transformation supplémentaire\n",
    "# Dans combien de films de base joue Tom Hanks? (Réponse 57)\n",
    "# Dans combien de comédies...\n",
    "\n",
    "# => On voit qu'il est possible de créer facilement des nouvelles caractéristiques qui\n",
    "# apporteront des informations utiles pour certaines tâches\n"
   ]
  },
  {
   "cell_type": "code",
   "execution_count": null,
   "metadata": {},
   "outputs": [],
   "source": []
  }
 ],
 "metadata": {
  "kernelspec": {
   "display_name": "Python 3",
   "language": "python",
   "name": "python3"
  },
  "language_info": {
   "codemirror_mode": {
    "name": "ipython",
    "version": 3
   },
   "file_extension": ".py",
   "mimetype": "text/x-python",
   "name": "python",
   "nbconvert_exporter": "python",
   "pygments_lexer": "ipython3",
   "version": "3.5.3"
  },
  "toc": {
   "base_numbering": 1,
   "nav_menu": {},
   "number_sections": true,
   "sideBar": true,
   "skip_h1_title": false,
   "title_cell": "Table of Contents",
   "title_sidebar": "Contents",
   "toc_cell": false,
   "toc_position": {},
   "toc_section_display": true,
   "toc_window_display": true
  },
  "varInspector": {
   "cols": {
    "lenName": 16,
    "lenType": 16,
    "lenVar": 40
   },
   "kernels_config": {
    "python": {
     "delete_cmd_postfix": "",
     "delete_cmd_prefix": "del ",
     "library": "var_list.py",
     "varRefreshCmd": "print(var_dic_list())"
    },
    "r": {
     "delete_cmd_postfix": ") ",
     "delete_cmd_prefix": "rm(",
     "library": "var_list.r",
     "varRefreshCmd": "cat(var_dic_list()) "
    }
   },
   "types_to_exclude": [
    "module",
    "function",
    "builtin_function_or_method",
    "instance",
    "_Feature"
   ],
   "window_display": false
  }
 },
 "nbformat": 4,
 "nbformat_minor": 2
}
